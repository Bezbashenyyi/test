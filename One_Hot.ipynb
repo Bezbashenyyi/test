{
 "cells": [
  {
   "cell_type": "code",
   "execution_count": null,
   "metadata": {},
   "outputs": [],
   "source": [
    "import pandas as pd\n",
    "import random\n",
    "\n",
    "lst = ['robot'] * 10\n",
    "lst += ['human'] * 10\n",
    "random.shuffle(lst)\n",
    "data = pd.DataFrame({'whoAmI':lst})\n",
    "data.head()\n",
    "\n",
    "data.loc[data['whoAmI'] == 'robot', 'human'] = 0\n",
    "data.loc[data['whoAmI'] == 'human', 'human'] = 1\n",
    "data.loc[data['whoAmI'] == 'robot', 'robot'] = 1\n",
    "data.loc[data['whoAmI'] == 'human', 'robot'] = 0\n",
    "data[['human', 'robot']] = data[['human', 'robot']].astype(int)\n",
    "data.drop('whoAmI', axis = 1, inplace = True)"
   ]
  }
 ],
 "metadata": {
  "kernelspec": {
   "display_name": ".venv",
   "language": "python",
   "name": "python3"
  },
  "language_info": {
   "name": "python",
   "version": "3.11.4"
  }
 },
 "nbformat": 4,
 "nbformat_minor": 2
}
